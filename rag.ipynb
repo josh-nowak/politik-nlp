{
 "cells": [
  {
   "cell_type": "markdown",
   "metadata": {},
   "source": [
    "# Retrieval augmented generation for political text"
   ]
  },
  {
   "cell_type": "markdown",
   "metadata": {},
   "source": [
    "This is a basic exploration and blueprint of using retrieval-augmented generation (RAG) for summarizing the perspectives of political parties."
   ]
  },
  {
   "cell_type": "markdown",
   "metadata": {},
   "source": [
    "For now, the below code builds a simple RAG based on the German Green party's manifesto for the parliament elections in 2021."
   ]
  },
  {
   "cell_type": "markdown",
   "metadata": {},
   "source": [
    "## 1. Load text"
   ]
  },
  {
   "cell_type": "code",
   "execution_count": 1,
   "metadata": {},
   "outputs": [],
   "source": [
    "from langchain_community.document_loaders import TextLoader\n",
    "\n",
    "raw_document = TextLoader(\"./data/manifestos/txt/2021-gruene.txt\").load()"
   ]
  },
  {
   "cell_type": "markdown",
   "metadata": {},
   "source": [
    "## 2. Split text to equal chunk size"
   ]
  },
  {
   "cell_type": "code",
   "execution_count": 4,
   "metadata": {},
   "outputs": [
    {
     "name": "stdout",
     "output_type": "stream",
     "text": [
      "page_content='Eine Einladung Liebe Wähler*innen, durch Wahlen entscheidet eine Gesellschaft, wer sie sein will. Das  gilt erst recht für diese Bundestagswahl am 26. September. Mit ihr  endet eine Ära und eine neue kann beginnen. Zukunft ist aber nichts,  was uns einfach widerfährt. Sie, liebe Wähler*innen, können mit Ihrer  Stimme selbst entscheiden, welche Richtung sie nimmt. Wir, BÜNDNIS 90 / DIE GRÜNEN, legen mit diesem Programm unser  inhaltliches Angebot an Sie vor. Wir tun dies in einer Zeit des globalen  Ausnahmezustands. Die Pandemie hat uns alle bis ins Mark getroffen.  Sie hat im Guten gezeigt, zu welcher Gemeinsamkeit, Innovationskraft und Widerstandsfähigkeit wir Menschen erreichen können. Sie  hat aber auch die Schwachstellen unserer Gesellschaft schonungslos  offengelegt, und das in einer ohnehin verwundbaren Welt. Die globalen Krisen dieser Zeit – zuallererst die Klimakrise als wahre Menschheitskrise – wirken in unser aller Leben hinein und gefährden Freiheit,  Sicherheit und' metadata={'source': './data/manifestos/txt/2021-gruene.txt'}\n",
      "page_content='einer ohnehin verwundbaren Welt. Die globalen Krisen dieser Zeit – zuallererst die Klimakrise als wahre Menschheitskrise – wirken in unser aller Leben hinein und gefährden Freiheit,  Sicherheit und Wohlstand. Wir haben aber die Wahl: Wir können entscheiden, ob uns die Krisen über den Kopf wachsen oder wir über sie hinaus. Die Erfahrungen  in der Pandemie zeigen, dass wir Krisen in gemeinsamer Kraftanstrengung bewältigen können. Durch die Solidarität, mit der unsere Gesellschaft den Verletzlichsten den stärksten Schutz gegeben hat. Durch  Rücksichtnahme, die so viele Menschen an den Tag legen. Durch Wissenschaft und Fortschritt. Täglich wachsen in der Pandemie Menschen  über sich hinaus – im Krankenhaus, im Altersheim, im Supermarkt, im  Labor, Kinder, Eltern und Lehrkräfte im Distanzunterricht, Jugendliche  allein zu Hause, Selbständige, die größte Anpassungsfähigkeit zeigen.  Jetzt ist es Zeit, dass die Politik über sich hinauswächst. Wir können aus Fehlern lernen. Wir haben erlebt,' metadata={'source': './data/manifestos/txt/2021-gruene.txt'}\n"
     ]
    }
   ],
   "source": [
    "from langchain.text_splitter import RecursiveCharacterTextSplitter\n",
    "text_splitter = RecursiveCharacterTextSplitter(chunk_size=1000, chunk_overlap=200)\n",
    "splits = text_splitter.split_documents(raw_document)\n",
    "print(splits[0])\n",
    "print(splits[1])"
   ]
  },
  {
   "cell_type": "markdown",
   "metadata": {},
   "source": [
    "## 3. Embed text and store in vector database"
   ]
  },
  {
   "cell_type": "code",
   "execution_count": 5,
   "metadata": {},
   "outputs": [],
   "source": [
    "# from langchain_community.embeddings import OllamaEmbeddings\n",
    "# embeddings = OllamaEmbeddings()"
   ]
  },
  {
   "cell_type": "code",
   "execution_count": 6,
   "metadata": {},
   "outputs": [],
   "source": [
    "from langchain_openai import OpenAIEmbeddings\n",
    "embeddings = OpenAIEmbeddings()"
   ]
  },
  {
   "cell_type": "code",
   "execution_count": 7,
   "metadata": {},
   "outputs": [],
   "source": [
    "from langchain_community.vectorstores import Chroma\n",
    "db = Chroma.from_documents(documents = splits,\n",
    "                           embedding = embeddings,\n",
    "                           persist_directory = \"./chroma_db\")"
   ]
  },
  {
   "cell_type": "code",
   "execution_count": 41,
   "metadata": {},
   "outputs": [
    {
     "name": "stdout",
     "output_type": "stream",
     "text": [
      "treffen oft die  am härtesten, die in schwierigsten Umständen leben. Während wir  um jedes Zehntelgrad weniger an Erderhitzung kämpfen, müssen wir  uns zugleich an diese Veränderungen anpassen. In ländlichen Räumen gilt es insbesondere Land- und Forstwirtschaft, Tourismus und  Fischerei bei der Anpassung zu unterstützen, um Schäden durch Dürren, Ernteausfälle und Waldsterben zu verringern. Unsere Städte wollen wir besser gegen Hitzewellen und Starkregen wappnen – mit Hitzeaktionsplänen und einem Stadtumbau im Großen wie im Kleinen:  mehr Stadtgrün, Bodenentsiegelung, Frischluftschneisen, Gebäudebegrünung, Wasserflächen und öffentliche Trinkbrunnen. Als Schwammstädte sollen sie künftig mehr Wasser aufnehmen, speichern und im  Sommer kühlend wirken. Das erhöht auch die Lebensqualität gerade  für all jene, die sich keinen eigenen Balkon oder Garten leisten können: Dachgärten sind natürliche Klimaanlagen für Wohnungen und  Büros, Parks und Stadtwälder spenden Schatten und frische Luft.\n",
      "vor allem die mit den geringsten Einkommen und insbesondere  die Menschen im globalen Süden, die den Preis dafür zahlen, dass der  ökologische Fußabdruck der Reichsten am größten ist. Oder für die  Bäuer*innen, denen zunehmend die Grundlage entzogen wird. Und für  den Zusammenhalt in unserer Gesellschaft. Alle diese Folgen werden  sich vervielfachen, wenn wir jetzt nicht umsteuern. Je entschiedener  wir handeln, desto mehr Freiheiten und Alternativen sichern wir für  jetzige und künftige Generationen. Wir werden deshalb konsequent  den Weg zur Klimaneutralität gehen. Das verlangt Können, Mut und Machen. Wir stellen in einer künftigen  Regierung das Pariser Klimaabkommen in den Mittelpunkt und richten  das Handeln aller Ministerien danach aus. Wir lenken all unsere Kraft  darauf, Maßnahmen auf den Weg zu bringen, die uns auf den 1,5-GradPfad führen. Klimagerechtigkeit ist eine Frage des politischen Kanons.  Wir begreifen es als unsere Aufgabe, bessere Regeln zu schaffen, nicht  den\n",
      "möglichen Einsatz von klimafreundlichen Alternativen gewährleisten. Wir schaffen Versorgungssicherheit   mit Erneuerbaren Schneller raus aus der Kohle Nach dem Willen der Großen Koalition werden in Deutschland Kohlekraftwerke noch bis 2038 dem Klima und unserer Gesundheit schaden. Das ist mit den Klimazielen von Paris und dem 1,5- Grad-Pfad  nicht vereinbar. Wir setzen uns dafür ein, den Kohleausstieg bis 2030  zu vollenden. In diesem Sinne werden wir alle Möglichkeiten – auch  auf EU-Ebene – nutzen. Um nicht erneut den Kohlekonzernen Milliarden an Steuergeldern zu schenken, werden wir die massiven Klimaschäden der Kohleverstromung einpreisen. Das gelingt am besten über den EU- Emissionshandel – mit einem lenkenden CO2-Preis.  Sollte dieser auf europäischer Ebene nicht schnell genug erreicht  sein, setzen wir auf einen nationalen CO2-Mindestpreis im ETS für  Industrie und Strom von 60 Euro pro Tonne CO2. Ein beschleunigter  Kohleausstieg bedarf im Sinne der Versorgungssicherheit\n",
      "globale Klimagerechtigkeit und richten  unsere diplomatischen Fähigkeiten gezielt auf eine klimagerechte  Politik aus. Die bestehenden internationalen Fonds für Klimaanpassung und Klimaschutz wollen wir besser ausstatten und setzen uns für  einen zusätzlichen Fonds zum Ausgleich von Schäden und Verlusten  ein, um daraus zum Beispiel Klimarisikoversicherungen zu finanzieren. Förderungen fossiler Energieträger in unserer Entwicklungs- und  Exportfinanzierung werden wir beenden. Entwicklungs- und Investitionsbanken wie die Weltbank oder die KfW sollen zu Transformationsbanken umgebaut werden. Klima und Umwelt schützen, Menschenrechte achten Der Schutz der Menschenrechte verpflichtet zum Klima- und Umweltschutz, umgekehrt schützt Klima- und Umweltschutz Menschenrechte.  Wir treten für verbindliche Mechanismen zum Schutz von Menschen  ein, die aufgrund von Extremwetterereignissen oder schleichender  Umweltveränderung ihre Lebensgrundlage verlieren und ihre Heimat  verlassen müssen.\n"
     ]
    }
   ],
   "source": [
    "# Test query\n",
    "query = \"Welche Lösungen schlagen die Grünen zum Klimawandel vor?\"\n",
    "docs = db.similarity_search(query)\n",
    "print(docs[0].page_content)\n",
    "print(docs[1].page_content)\n",
    "print(docs[2].page_content)\n",
    "print(docs[3].page_content)"
   ]
  },
  {
   "cell_type": "markdown",
   "metadata": {},
   "source": [
    "## 4. Retrieve and generate"
   ]
  },
  {
   "cell_type": "markdown",
   "metadata": {},
   "source": [
    "### 4.1 Set up LLM chain"
   ]
  },
  {
   "cell_type": "code",
   "execution_count": 9,
   "metadata": {},
   "outputs": [],
   "source": [
    "from langchain_openai import ChatOpenAI\n",
    "llm = ChatOpenAI(model_name=\"gpt-3.5-turbo\")\n",
    "\n",
    "from langchain_core.output_parsers import StrOutputParser\n",
    "output_parser = StrOutputParser()"
   ]
  },
  {
   "cell_type": "code",
   "execution_count": 10,
   "metadata": {},
   "outputs": [
    {
     "name": "stdout",
     "output_type": "stream",
     "text": [
      "Die Grünen setzen sich für eine umfassende und konsequente Klimapolitik ein. Ihr\n",
      "Ziel ist es, den Klimawandel zu bekämpfen und die Erderwärmung auf maximal 1,5\n",
      "Grad Celsius zu begrenzen. Dafür schlagen sie folgende Lösungen vor:  1.\n",
      "Ausstieg aus der Nutzung fossiler Energien: Die Grünen setzen sich für einen\n",
      "schnellen und vollständigen Ausstieg aus der Kohle-, Öl- und Gasnutzung ein und\n",
      "fördern den Ausbau erneuerbarer Energien wie Wind, Sonne und Biomasse.  2.\n",
      "Energieeffizienz und Energiewende: Die Grünen setzen auf eine effiziente Nutzung\n",
      "von Energie und fördern den Ausbau von Energiespeichern und intelligenten\n",
      "Stromnetzen. Sie wollen die Energieversorgung dezentralisieren und die\n",
      "Bürgerinnen und Bürger stärker in die Energiewende einbeziehen.  3.\n",
      "Verkehrswende: Die Grünen setzen sich für eine nachhaltige Verkehrspolitik ein.\n",
      "Sie fördern den Ausbau des öffentlichen Nahverkehrs, den Ausbau von Fahrradwegen\n",
      "und den Einsatz von Elektromobilität. Zudem wollen sie den CO2-Ausstoß im\n",
      "Verkehrssektor drastisch reduzieren.  4. Agrar- und Ernährungswende: Die Grünen\n",
      "streben eine ökologische und nachhaltige Landwirtschaft an. Sie setzen auf eine\n",
      "Reduktion des Einsatzes von Pestiziden und chemischen Düngemitteln, eine\n",
      "Förderung des ökologischen Landbaus und eine artgerechte Tierhaltung.  5.\n",
      "Ressourcenschutz und Kreislaufwirtschaft: Die Grünen setzen sich für eine\n",
      "ressourcenschonende Wirtschaft ein. Sie wollen den Einsatz von Einwegprodukten\n",
      "reduzieren, die Wiederverwertung von Materialien fördern und den Konsum von\n",
      "Ressourcen insgesamt verringern.  Diese Maßnahmen sollen dazu beitragen, den\n",
      "Klimawandel einzudämmen und eine nachhaltige und lebenswerte Zukunft zu\n",
      "ermöglichen.\n"
     ]
    }
   ],
   "source": [
    "# Test without retrieval\n",
    "\n",
    "# from langchain_core.prompts import ChatPromptTemplate\n",
    "# prompt = ChatPromptTemplate.from_messages([\n",
    "#     (\"system\", \"You help citizens understand the agenda of political parties.\"),\n",
    "#     (\"user\", \"{input}\")\n",
    "# ])\n",
    "\n",
    "# chain = prompt | llm | output_parser\n",
    "\n",
    "# response = chain.invoke({\"input\": \"Welche Lösungen schlagen die Grünen zum Klimawandel vor?\"})\n",
    "\n",
    "# import textwrap\n",
    "# print(textwrap.fill(response, 80))"
   ]
  },
  {
   "cell_type": "markdown",
   "metadata": {},
   "source": [
    "### 4.2 Set up retrieval mechanism"
   ]
  },
  {
   "cell_type": "code",
   "execution_count": 43,
   "metadata": {},
   "outputs": [],
   "source": [
    "retriever = db.as_retriever(search_type=\"similarity\",\n",
    "                            search_kwargs={\"k\": 7})"
   ]
  },
  {
   "cell_type": "code",
   "execution_count": 44,
   "metadata": {},
   "outputs": [],
   "source": [
    "from langchain_core.prompts import ChatPromptTemplate\n",
    "rag_prompt = ChatPromptTemplate.from_template(\"\"\"Beantworte die folgende Frage nur auf dem zur Verfügung gestellten Kontext.:\n",
    "                                          \n",
    "                                          KONTEXT:\n",
    "                                          {context}\n",
    "\n",
    "                                          FRAGE: {question}\"\"\")"
   ]
  },
  {
   "cell_type": "code",
   "execution_count": 45,
   "metadata": {},
   "outputs": [],
   "source": [
    "# from langchain_core.runnables import RunnablePassthrough\n",
    "\n",
    "# retrieval_chain = (\n",
    "#     {\"context\": retriever, \"question\": RunnablePassthrough()}\n",
    "#     | rag_prompt\n",
    "#     | llm\n",
    "#     | output_parser\n",
    "# )"
   ]
  },
  {
   "cell_type": "code",
   "execution_count": 46,
   "metadata": {},
   "outputs": [],
   "source": [
    "from langchain_core.runnables import RunnablePassthrough\n",
    "from langchain_core.runnables import RunnableParallel\n",
    "\n",
    "def format_docs(docs):\n",
    "    return \"\\n\\n\".join(doc.page_content for doc in docs)\n",
    "\n",
    "rag_chain_from_docs = (\n",
    "    RunnablePassthrough.assign(context = (lambda x: format_docs(x[\"context\"])))\n",
    "    | rag_prompt\n",
    "    | llm\n",
    "    | output_parser\n",
    ")\n",
    "\n",
    "rag_chain_with_source = RunnableParallel(\n",
    "    {\"context\": retriever, \"question\": RunnablePassthrough()}\n",
    ").assign(answer=rag_chain_from_docs)"
   ]
  },
  {
   "cell_type": "markdown",
   "metadata": {},
   "source": [
    "### 4.3 Invoke the chain (generate)"
   ]
  },
  {
   "cell_type": "code",
   "execution_count": 47,
   "metadata": {},
   "outputs": [],
   "source": [
    "response = rag_chain_with_source.invoke(\"Welche Lösungen schlagen die Grünen zum Klimawandel vor?\")"
   ]
  },
  {
   "cell_type": "code",
   "execution_count": 48,
   "metadata": {},
   "outputs": [
    {
     "data": {
      "text/plain": [
       "{'context': [Document(page_content='treffen oft die  am härtesten, die in schwierigsten Umständen leben. Während wir  um jedes Zehntelgrad weniger an Erderhitzung kämpfen, müssen wir  uns zugleich an diese Veränderungen anpassen. In ländlichen Räumen gilt es insbesondere Land- und Forstwirtschaft, Tourismus und  Fischerei bei der Anpassung zu unterstützen, um Schäden durch Dürren, Ernteausfälle und Waldsterben zu verringern. Unsere Städte wollen wir besser gegen Hitzewellen und Starkregen wappnen – mit Hitzeaktionsplänen und einem Stadtumbau im Großen wie im Kleinen:  mehr Stadtgrün, Bodenentsiegelung, Frischluftschneisen, Gebäudebegrünung, Wasserflächen und öffentliche Trinkbrunnen. Als Schwammstädte sollen sie künftig mehr Wasser aufnehmen, speichern und im  Sommer kühlend wirken. Das erhöht auch die Lebensqualität gerade  für all jene, die sich keinen eigenen Balkon oder Garten leisten können: Dachgärten sind natürliche Klimaanlagen für Wohnungen und  Büros, Parks und Stadtwälder spenden Schatten und frische Luft.', metadata={'source': './data/manifestos/txt/2021-gruene.txt'}),\n",
       "  Document(page_content='vor allem die mit den geringsten Einkommen und insbesondere  die Menschen im globalen Süden, die den Preis dafür zahlen, dass der  ökologische Fußabdruck der Reichsten am größten ist. Oder für die  Bäuer*innen, denen zunehmend die Grundlage entzogen wird. Und für  den Zusammenhalt in unserer Gesellschaft. Alle diese Folgen werden  sich vervielfachen, wenn wir jetzt nicht umsteuern. Je entschiedener  wir handeln, desto mehr Freiheiten und Alternativen sichern wir für  jetzige und künftige Generationen. Wir werden deshalb konsequent  den Weg zur Klimaneutralität gehen. Das verlangt Können, Mut und Machen. Wir stellen in einer künftigen  Regierung das Pariser Klimaabkommen in den Mittelpunkt und richten  das Handeln aller Ministerien danach aus. Wir lenken all unsere Kraft  darauf, Maßnahmen auf den Weg zu bringen, die uns auf den 1,5-GradPfad führen. Klimagerechtigkeit ist eine Frage des politischen Kanons.  Wir begreifen es als unsere Aufgabe, bessere Regeln zu schaffen, nicht  den', metadata={'source': './data/manifestos/txt/2021-gruene.txt'}),\n",
       "  Document(page_content='möglichen Einsatz von klimafreundlichen Alternativen gewährleisten. Wir schaffen Versorgungssicherheit   mit Erneuerbaren Schneller raus aus der Kohle Nach dem Willen der Großen Koalition werden in Deutschland Kohlekraftwerke noch bis 2038 dem Klima und unserer Gesundheit schaden. Das ist mit den Klimazielen von Paris und dem 1,5- Grad-Pfad  nicht vereinbar. Wir setzen uns dafür ein, den Kohleausstieg bis 2030  zu vollenden. In diesem Sinne werden wir alle Möglichkeiten – auch  auf EU-Ebene – nutzen. Um nicht erneut den Kohlekonzernen Milliarden an Steuergeldern zu schenken, werden wir die massiven Klimaschäden der Kohleverstromung einpreisen. Das gelingt am besten über den EU- Emissionshandel – mit einem lenkenden CO2-Preis.  Sollte dieser auf europäischer Ebene nicht schnell genug erreicht  sein, setzen wir auf einen nationalen CO2-Mindestpreis im ETS für  Industrie und Strom von 60 Euro pro Tonne CO2. Ein beschleunigter  Kohleausstieg bedarf im Sinne der Versorgungssicherheit', metadata={'source': './data/manifestos/txt/2021-gruene.txt'}),\n",
       "  Document(page_content='globale Klimagerechtigkeit und richten  unsere diplomatischen Fähigkeiten gezielt auf eine klimagerechte  Politik aus. Die bestehenden internationalen Fonds für Klimaanpassung und Klimaschutz wollen wir besser ausstatten und setzen uns für  einen zusätzlichen Fonds zum Ausgleich von Schäden und Verlusten  ein, um daraus zum Beispiel Klimarisikoversicherungen zu finanzieren. Förderungen fossiler Energieträger in unserer Entwicklungs- und  Exportfinanzierung werden wir beenden. Entwicklungs- und Investitionsbanken wie die Weltbank oder die KfW sollen zu Transformationsbanken umgebaut werden. Klima und Umwelt schützen, Menschenrechte achten Der Schutz der Menschenrechte verpflichtet zum Klima- und Umweltschutz, umgekehrt schützt Klima- und Umweltschutz Menschenrechte.  Wir treten für verbindliche Mechanismen zum Schutz von Menschen  ein, die aufgrund von Extremwetterereignissen oder schleichender  Umweltveränderung ihre Lebensgrundlage verlieren und ihre Heimat  verlassen müssen.', metadata={'source': './data/manifestos/txt/2021-gruene.txt'}),\n",
       "  Document(page_content='Dafür ist unmittelbares und substanzielles Handeln in den nächsten Jahren entscheidend.  Doch aktuell lahmt der Ausbau der erneuerbaren Energien, der Kohleausstieg kommt zu spät, im Verkehrs- und Gebäudesektor geht es  kaum voran. Gemäß der Klimaentscheidung des Bundesverfassungsgerichts, die auch auf den Sachverständigenrat für Umweltfragen verweist, müssen wir unsere Klimapolitik am Budgetansatz orientieren.  Der Weltklimarat beziffert das globale CO2-Budget ab dem Jahr 2018  für das 1,5-Grad-Ziel mit einer 67-prozentigen Wahrscheinlichkeit  der Zielerreichung auf 420\\xa0Gigatonnen CO2. Der Sachverständigenrat  hat daraus ein verbleibendes nationales Kohlenstoffbudget von 6,6  Gigatonnen CO2 ab 2020 abgeleitet. Bei fortdauernden Emissionen  auf heutigem Niveau wäre das deutsche CO2-Budget in weniger als  neun Jahren verbraucht, bei einer linearen Reduktion rund um 2035.  Ein längerer Zeitverlauf zur Treibhausgasneutralität erfordert überproportionale Reduktionserfolge in den nächsten', metadata={'source': './data/manifestos/txt/2021-gruene.txt'}),\n",
       "  Document(page_content='darum, das Beste zu ermöglichen. In kurzer Zeit eine klimaneutrale Gesellschaft zu werden, ist eine epochale  Aufgabe mit inspirierender Kraft. Wir wollen einen Aufschwung schaffen, der über das rein Ökonomische hinausgeht. Einen Aufschwung,  der das ganze gesellschaftliche Leben in seiner Stärke und Vielfalt  erfasst: Bildung und Kultur, Arbeit und Digitalisierung, Wissenschaft  und Innovation. Dieses Programm ist dafür ein Anfang. Es schlägt konkrete und  ehrgeizige Projekte für politisches Handeln in einer Bundesregierung  in den kommenden vier Jahren vor. Die Aufgaben sind groß, die Widerstände ebenfalls. Aber die letzten Jahre haben gezeigt, dass viele  Menschen in der Gesellschaft der Politik weit voraus sind. Lassen  Sie uns also gemeinsam die politische Arbeit auf die Höhe der Zeit  bringen. Wenn Sie, liebe Wähler*innen, uns das Mandat dafür erteilen  und wir diese Projekte mit Ihnen Schritt für Schritt umsetzen dürfen,  schaffen wir zusammen die Grundlagen für ein Jahrzehnt', metadata={'source': './data/manifestos/txt/2021-gruene.txt'}),\n",
       "  Document(page_content='auf den Weg zu bringen, die uns auf den 1,5-GradPfad führen. Klimagerechtigkeit ist eine Frage des politischen Kanons.  Wir begreifen es als unsere Aufgabe, bessere Regeln zu schaffen, nicht  den besseren Menschen. Solch klare politische Ordnungsrahmen entlasten auch uns als Menschen im Alltag und schaffen Freiheit. Natürlich bedeutet Klimaneutralität Veränderung, aber diese Veränderung schafft Halt in der Zukunft. Denn sie bewahrt uns davor,  Kipppunkte zu überschreiten, und ermöglicht ein klimagerechtes,  ein besseres Leben. Wir bringen deshalb Strom, Wärme, Verkehr und  Industrie zusammen, beenden Energieverschwendung und sorgen so  für eine effiziente Verzahnung dieser Bereiche. Statt auf Kohle, Öl und  fossilem Gas wird das Energiesystem auf Sonnen- und Windenergie  basieren. Statt an fossilen Verbrennungsmotoren festzuhalten, schaffen wir eine neue Mobilität mit der Bahn, dem Rad, zu Fuß oder mit  emissionsfreien Autos. Statt Öl und Erdgas wärmt uns künftig die Kraft  der', metadata={'source': './data/manifestos/txt/2021-gruene.txt'})],\n",
       " 'question': 'Welche Lösungen schlagen die Grünen zum Klimawandel vor?',\n",
       " 'answer': 'Die Grünen schlagen verschiedene Lösungen zum Klimawandel vor. Dazu gehören Maßnahmen wie die Unterstützung der Land- und Forstwirtschaft, des Tourismus und der Fischerei in ländlichen Räumen, um Schäden durch Dürren, Ernteausfälle und Waldsterben zu verringern. In den Städten wollen sie sich gegen Hitzewellen und Starkregen wappnen, indem sie Hitzeaktionspläne einführen und den Stadtumbau vorantreiben, zum Beispiel durch mehr Stadtgrün, Bodenentsiegelung, Gebäudebegrünung und Wasserflächen. Die Grünen setzen sich auch für einen beschleunigten Kohleausstieg bis 2030 ein und möchten die Versorgungssicherheit mit erneuerbaren Energien gewährleisten. Sie fordern globale Klimagerechtigkeit und möchten die internationalen Fonds für Klimaanpassung und Klimaschutz besser ausstatten. Zudem möchten sie verbindliche Mechanismen zum Schutz von Menschen einführen, die aufgrund von Extremwetterereignissen oder Umweltveränderungen ihre Lebensgrundlage verlieren und ihre Heimat verlassen müssen.'}"
      ]
     },
     "execution_count": 48,
     "metadata": {},
     "output_type": "execute_result"
    }
   ],
   "source": [
    "response"
   ]
  },
  {
   "cell_type": "code",
   "execution_count": 49,
   "metadata": {},
   "outputs": [
    {
     "name": "stdout",
     "output_type": "stream",
     "text": [
      "Die Grünen schlagen verschiedene Lösungen zum Klimawandel vor. Dazu gehören\n",
      "Maßnahmen wie die Unterstützung der Land- und Forstwirtschaft, des Tourismus und\n",
      "der Fischerei in ländlichen Räumen, um Schäden durch Dürren, Ernteausfälle und\n",
      "Waldsterben zu verringern. In den Städten wollen sie sich gegen Hitzewellen und\n",
      "Starkregen wappnen, indem sie Hitzeaktionspläne einführen und den Stadtumbau\n",
      "vorantreiben, zum Beispiel durch mehr Stadtgrün, Bodenentsiegelung,\n",
      "Gebäudebegrünung und Wasserflächen. Die Grünen setzen sich auch für einen\n",
      "beschleunigten Kohleausstieg bis 2030 ein und möchten die Versorgungssicherheit\n",
      "mit erneuerbaren Energien gewährleisten. Sie fordern globale Klimagerechtigkeit\n",
      "und möchten die internationalen Fonds für Klimaanpassung und Klimaschutz besser\n",
      "ausstatten. Zudem möchten sie verbindliche Mechanismen zum Schutz von Menschen\n",
      "einführen, die aufgrund von Extremwetterereignissen oder Umweltveränderungen\n",
      "ihre Lebensgrundlage verlieren und ihre Heimat verlassen müssen.\n"
     ]
    }
   ],
   "source": [
    "import textwrap\n",
    "print(textwrap.fill(response[\"answer\"], 80))"
   ]
  },
  {
   "cell_type": "code",
   "execution_count": 50,
   "metadata": {},
   "outputs": [
    {
     "name": "stdout",
     "output_type": "stream",
     "text": [
      "treffen oft die  am härtesten, die in schwierigsten Umständen leben.\n",
      "Während wir  um jedes Zehntelgrad weniger an Erderhitzung kämpfen,\n",
      "müssen wir  uns zugleich an diese Veränderungen anpassen. In\n",
      "ländlichen Räumen gilt es insbesondere Land- und Forstwirtschaft,\n",
      "Tourismus und  Fischerei bei der Anpassung zu unterstützen, um Schäden\n",
      "durch Dürren, Ernteausfälle und Waldsterben zu verringern. Unsere\n",
      "Städte wollen wir besser gegen Hitzewellen und Starkregen wappnen –\n",
      "mit Hitzeaktionsplänen und einem Stadtumbau im Großen wie im Kleinen:\n",
      "mehr Stadtgrün, Bodenentsiegelung, Frischluftschneisen,\n",
      "Gebäudebegrünung, Wasserflächen und öffentliche Trinkbrunnen. Als\n",
      "Schwammstädte sollen sie künftig mehr Wasser aufnehmen, speichern und\n",
      "im  Sommer kühlend wirken. Das erhöht auch die Lebensqualität gerade\n",
      "für all jene, die sich keinen eigenen Balkon oder Garten leisten\n",
      "können: Dachgärten sind natürliche Klimaanlagen für Wohnungen und\n",
      "Büros, Parks und Stadtwälder spenden Schatten und frische Luft. 80\n",
      "\n",
      "\n",
      " -------------------- \n",
      "\n",
      "\n",
      "vor allem die mit den geringsten Einkommen und insbesondere  die\n",
      "Menschen im globalen Süden, die den Preis dafür zahlen, dass der\n",
      "ökologische Fußabdruck der Reichsten am größten ist. Oder für die\n",
      "Bäuer*innen, denen zunehmend die Grundlage entzogen wird. Und für  den\n",
      "Zusammenhalt in unserer Gesellschaft. Alle diese Folgen werden  sich\n",
      "vervielfachen, wenn wir jetzt nicht umsteuern. Je entschiedener  wir\n",
      "handeln, desto mehr Freiheiten und Alternativen sichern wir für\n",
      "jetzige und künftige Generationen. Wir werden deshalb konsequent  den\n",
      "Weg zur Klimaneutralität gehen. Das verlangt Können, Mut und Machen.\n",
      "Wir stellen in einer künftigen  Regierung das Pariser Klimaabkommen in\n",
      "den Mittelpunkt und richten  das Handeln aller Ministerien danach aus.\n",
      "Wir lenken all unsere Kraft  darauf, Maßnahmen auf den Weg zu bringen,\n",
      "die uns auf den 1,5-GradPfad führen. Klimagerechtigkeit ist eine Frage\n",
      "des politischen Kanons.  Wir begreifen es als unsere Aufgabe, bessere\n",
      "Regeln zu schaffen, nicht  den 80\n",
      "\n",
      "\n",
      " -------------------- \n",
      "\n",
      "\n",
      "möglichen Einsatz von klimafreundlichen Alternativen gewährleisten.\n",
      "Wir schaffen Versorgungssicherheit   mit Erneuerbaren Schneller raus\n",
      "aus der Kohle Nach dem Willen der Großen Koalition werden in\n",
      "Deutschland Kohlekraftwerke noch bis 2038 dem Klima und unserer\n",
      "Gesundheit schaden. Das ist mit den Klimazielen von Paris und dem 1,5-\n",
      "Grad-Pfad  nicht vereinbar. Wir setzen uns dafür ein, den\n",
      "Kohleausstieg bis 2030  zu vollenden. In diesem Sinne werden wir alle\n",
      "Möglichkeiten – auch  auf EU-Ebene – nutzen. Um nicht erneut den\n",
      "Kohlekonzernen Milliarden an Steuergeldern zu schenken, werden wir die\n",
      "massiven Klimaschäden der Kohleverstromung einpreisen. Das gelingt am\n",
      "besten über den EU- Emissionshandel – mit einem lenkenden CO2-Preis.\n",
      "Sollte dieser auf europäischer Ebene nicht schnell genug erreicht\n",
      "sein, setzen wir auf einen nationalen CO2-Mindestpreis im ETS für\n",
      "Industrie und Strom von 60 Euro pro Tonne CO2. Ein beschleunigter\n",
      "Kohleausstieg bedarf im Sinne der Versorgungssicherheit 80\n",
      "\n",
      "\n",
      " -------------------- \n",
      "\n",
      "\n",
      "globale Klimagerechtigkeit und richten  unsere diplomatischen\n",
      "Fähigkeiten gezielt auf eine klimagerechte  Politik aus. Die\n",
      "bestehenden internationalen Fonds für Klimaanpassung und Klimaschutz\n",
      "wollen wir besser ausstatten und setzen uns für  einen zusätzlichen\n",
      "Fonds zum Ausgleich von Schäden und Verlusten  ein, um daraus zum\n",
      "Beispiel Klimarisikoversicherungen zu finanzieren. Förderungen\n",
      "fossiler Energieträger in unserer Entwicklungs- und\n",
      "Exportfinanzierung werden wir beenden. Entwicklungs- und\n",
      "Investitionsbanken wie die Weltbank oder die KfW sollen zu\n",
      "Transformationsbanken umgebaut werden. Klima und Umwelt schützen,\n",
      "Menschenrechte achten Der Schutz der Menschenrechte verpflichtet zum\n",
      "Klima- und Umweltschutz, umgekehrt schützt Klima- und Umweltschutz\n",
      "Menschenrechte.  Wir treten für verbindliche Mechanismen zum Schutz\n",
      "von Menschen  ein, die aufgrund von Extremwetterereignissen oder\n",
      "schleichender  Umweltveränderung ihre Lebensgrundlage verlieren und\n",
      "ihre Heimat  verlassen müssen. 80\n",
      "\n",
      "\n",
      " -------------------- \n",
      "\n",
      "\n",
      "Dafür ist unmittelbares und substanzielles Handeln in den nächsten\n",
      "Jahren entscheidend.  Doch aktuell lahmt der Ausbau der erneuerbaren\n",
      "Energien, der Kohleausstieg kommt zu spät, im Verkehrs- und\n",
      "Gebäudesektor geht es  kaum voran. Gemäß der Klimaentscheidung des\n",
      "Bundesverfassungsgerichts, die auch auf den Sachverständigenrat für\n",
      "Umweltfragen verweist, müssen wir unsere Klimapolitik am Budgetansatz\n",
      "orientieren.  Der Weltklimarat beziffert das globale CO2-Budget ab dem\n",
      "Jahr 2018  für das 1,5-Grad-Ziel mit einer 67-prozentigen\n",
      "Wahrscheinlichkeit  der Zielerreichung auf 420 Gigatonnen CO2. Der\n",
      "Sachverständigenrat  hat daraus ein verbleibendes nationales\n",
      "Kohlenstoffbudget von 6,6  Gigatonnen CO2 ab 2020 abgeleitet. Bei\n",
      "fortdauernden Emissionen  auf heutigem Niveau wäre das deutsche\n",
      "CO2-Budget in weniger als  neun Jahren verbraucht, bei einer linearen\n",
      "Reduktion rund um 2035.  Ein längerer Zeitverlauf zur\n",
      "Treibhausgasneutralität erfordert überproportionale Reduktionserfolge\n",
      "in den nächsten 80\n",
      "\n",
      "\n",
      " -------------------- \n",
      "\n",
      "\n",
      "darum, das Beste zu ermöglichen. In kurzer Zeit eine klimaneutrale\n",
      "Gesellschaft zu werden, ist eine epochale  Aufgabe mit inspirierender\n",
      "Kraft. Wir wollen einen Aufschwung schaffen, der über das rein\n",
      "Ökonomische hinausgeht. Einen Aufschwung,  der das ganze\n",
      "gesellschaftliche Leben in seiner Stärke und Vielfalt  erfasst:\n",
      "Bildung und Kultur, Arbeit und Digitalisierung, Wissenschaft  und\n",
      "Innovation. Dieses Programm ist dafür ein Anfang. Es schlägt konkrete\n",
      "und  ehrgeizige Projekte für politisches Handeln in einer\n",
      "Bundesregierung  in den kommenden vier Jahren vor. Die Aufgaben sind\n",
      "groß, die Widerstände ebenfalls. Aber die letzten Jahre haben gezeigt,\n",
      "dass viele  Menschen in der Gesellschaft der Politik weit voraus sind.\n",
      "Lassen  Sie uns also gemeinsam die politische Arbeit auf die Höhe der\n",
      "Zeit  bringen. Wenn Sie, liebe Wähler*innen, uns das Mandat dafür\n",
      "erteilen  und wir diese Projekte mit Ihnen Schritt für Schritt\n",
      "umsetzen dürfen,  schaffen wir zusammen die Grundlagen für ein\n",
      "Jahrzehnt 80\n",
      "\n",
      "\n",
      " -------------------- \n",
      "\n",
      "\n",
      "auf den Weg zu bringen, die uns auf den 1,5-GradPfad führen.\n",
      "Klimagerechtigkeit ist eine Frage des politischen Kanons.  Wir\n",
      "begreifen es als unsere Aufgabe, bessere Regeln zu schaffen, nicht\n",
      "den besseren Menschen. Solch klare politische Ordnungsrahmen entlasten\n",
      "auch uns als Menschen im Alltag und schaffen Freiheit. Natürlich\n",
      "bedeutet Klimaneutralität Veränderung, aber diese Veränderung schafft\n",
      "Halt in der Zukunft. Denn sie bewahrt uns davor,  Kipppunkte zu\n",
      "überschreiten, und ermöglicht ein klimagerechtes,  ein besseres Leben.\n",
      "Wir bringen deshalb Strom, Wärme, Verkehr und  Industrie zusammen,\n",
      "beenden Energieverschwendung und sorgen so  für eine effiziente\n",
      "Verzahnung dieser Bereiche. Statt auf Kohle, Öl und  fossilem Gas wird\n",
      "das Energiesystem auf Sonnen- und Windenergie  basieren. Statt an\n",
      "fossilen Verbrennungsmotoren festzuhalten, schaffen wir eine neue\n",
      "Mobilität mit der Bahn, dem Rad, zu Fuß oder mit  emissionsfreien\n",
      "Autos. Statt Öl und Erdgas wärmt uns künftig die Kraft  der 80\n",
      "\n",
      "\n",
      " -------------------- \n",
      "\n",
      "\n"
     ]
    }
   ],
   "source": [
    "for context_snippet in response[\"context\"]:\n",
    "    print(textwrap.fill(context_snippet.page_content), 80)\n",
    "    print(\"\\n\\n -------------------- \\n\\n\")"
   ]
  }
 ],
 "metadata": {
  "kernelspec": {
   "display_name": "politik-nlp",
   "language": "python",
   "name": "python3"
  },
  "language_info": {
   "codemirror_mode": {
    "name": "ipython",
    "version": 3
   },
   "file_extension": ".py",
   "mimetype": "text/x-python",
   "name": "python",
   "nbconvert_exporter": "python",
   "pygments_lexer": "ipython3",
   "version": "3.10.13"
  }
 },
 "nbformat": 4,
 "nbformat_minor": 2
}
