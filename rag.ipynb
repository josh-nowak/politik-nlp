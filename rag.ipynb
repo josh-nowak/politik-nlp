{
 "cells": [
  {
   "cell_type": "markdown",
   "metadata": {},
   "source": [
    "# Retrieval augmented generation for political text"
   ]
  },
  {
   "cell_type": "markdown",
   "metadata": {},
   "source": [
    "This is a basic exploration and blueprint of using retrieval-augmented generation (RAG) for summarizing the perspectives of political parties."
   ]
  },
  {
   "cell_type": "markdown",
   "metadata": {},
   "source": [
    "For now, the below code builds a simple RAG chain based on the German Green party's manifesto for the parliament elections in 2021."
   ]
  },
  {
   "cell_type": "markdown",
   "metadata": {},
   "source": [
    "## 1. Load text"
   ]
  },
  {
   "cell_type": "code",
   "execution_count": 1,
   "metadata": {},
   "outputs": [],
   "source": [
    "from langchain_community.document_loaders import TextLoader\n",
    "\n",
    "raw_document = TextLoader(\"./data/manifestos/txt/2021-gruene.txt\").load()"
   ]
  },
  {
   "cell_type": "markdown",
   "metadata": {},
   "source": [
    "## 2. Split text to equal chunk size"
   ]
  },
  {
   "cell_type": "code",
   "execution_count": 2,
   "metadata": {},
   "outputs": [
    {
     "name": "stdout",
     "output_type": "stream",
     "text": [
      "page_content='Eine Einladung Liebe Wähler*innen, durch Wahlen entscheidet eine Gesellschaft, wer sie sein will. Das  gilt erst recht für diese Bundestagswahl am 26. September. Mit ihr  endet eine Ära und eine neue kann beginnen. Zukunft ist aber nichts,  was uns einfach widerfährt. Sie, liebe Wähler*innen, können mit Ihrer  Stimme selbst entscheiden, welche Richtung sie nimmt. Wir, BÜNDNIS 90 / DIE GRÜNEN, legen mit diesem Programm unser  inhaltliches Angebot an Sie vor. Wir tun dies in einer Zeit des globalen  Ausnahmezustands. Die Pandemie hat uns alle bis ins Mark getroffen.  Sie hat im Guten gezeigt, zu welcher Gemeinsamkeit, Innovationskraft und Widerstandsfähigkeit wir Menschen erreichen können. Sie  hat aber auch die Schwachstellen unserer Gesellschaft schonungslos  offengelegt, und das in einer ohnehin verwundbaren Welt. Die globalen Krisen dieser Zeit – zuallererst die Klimakrise als wahre Menschheitskrise – wirken in unser aller Leben hinein und gefährden Freiheit,  Sicherheit und' metadata={'source': './data/manifestos/txt/2021-gruene.txt'} \n",
      "\n",
      "\n",
      "page_content='einer ohnehin verwundbaren Welt. Die globalen Krisen dieser Zeit – zuallererst die Klimakrise als wahre Menschheitskrise – wirken in unser aller Leben hinein und gefährden Freiheit,  Sicherheit und Wohlstand. Wir haben aber die Wahl: Wir können entscheiden, ob uns die Krisen über den Kopf wachsen oder wir über sie hinaus. Die Erfahrungen  in der Pandemie zeigen, dass wir Krisen in gemeinsamer Kraftanstrengung bewältigen können. Durch die Solidarität, mit der unsere Gesellschaft den Verletzlichsten den stärksten Schutz gegeben hat. Durch  Rücksichtnahme, die so viele Menschen an den Tag legen. Durch Wissenschaft und Fortschritt. Täglich wachsen in der Pandemie Menschen  über sich hinaus – im Krankenhaus, im Altersheim, im Supermarkt, im  Labor, Kinder, Eltern und Lehrkräfte im Distanzunterricht, Jugendliche  allein zu Hause, Selbständige, die größte Anpassungsfähigkeit zeigen.  Jetzt ist es Zeit, dass die Politik über sich hinauswächst. Wir können aus Fehlern lernen. Wir haben erlebt,' metadata={'source': './data/manifestos/txt/2021-gruene.txt'} \n",
      "\n",
      "\n"
     ]
    }
   ],
   "source": [
    "from langchain.text_splitter import RecursiveCharacterTextSplitter\n",
    "text_splitter = RecursiveCharacterTextSplitter(chunk_size=1000, chunk_overlap=200)\n",
    "splits = text_splitter.split_documents(raw_document)\n",
    "print(splits[0], \"\\n\\n\")\n",
    "print(splits[1], \"\\n\\n\")"
   ]
  },
  {
   "cell_type": "markdown",
   "metadata": {},
   "source": [
    "## 3. Embed text and store in vector database"
   ]
  },
  {
   "cell_type": "code",
   "execution_count": 3,
   "metadata": {},
   "outputs": [],
   "source": [
    "# from langchain_community.embeddings import OllamaEmbeddings\n",
    "# embeddings = OllamaEmbeddings()"
   ]
  },
  {
   "cell_type": "code",
   "execution_count": 4,
   "metadata": {},
   "outputs": [],
   "source": [
    "from langchain_openai import OpenAIEmbeddings\n",
    "embeddings = OpenAIEmbeddings()"
   ]
  },
  {
   "cell_type": "code",
   "execution_count": 5,
   "metadata": {},
   "outputs": [],
   "source": [
    "from langchain_community.vectorstores import Chroma\n",
    "\n",
    "# db = Chroma.from_documents(documents = splits,\n",
    "#                            embedding = embeddings,\n",
    "#                            persist_directory = \"./chroma_db\")\n",
    "db = Chroma(persist_directory=\"./chroma_db\",\n",
    "            embedding_function=embeddings)"
   ]
  },
  {
   "cell_type": "code",
   "execution_count": 6,
   "metadata": {},
   "outputs": [
    {
     "name": "stdout",
     "output_type": "stream",
     "text": [
      "treffen oft die  am härtesten, die in schwierigsten Umständen leben. Während wir  um jedes Zehntelgrad weniger an Erderhitzung kämpfen, müssen wir  uns zugleich an diese Veränderungen anpassen. In ländlichen Räumen gilt es insbesondere Land- und Forstwirtschaft, Tourismus und  Fischerei bei der Anpassung zu unterstützen, um Schäden durch Dürren, Ernteausfälle und Waldsterben zu verringern. Unsere Städte wollen wir besser gegen Hitzewellen und Starkregen wappnen – mit Hitzeaktionsplänen und einem Stadtumbau im Großen wie im Kleinen:  mehr Stadtgrün, Bodenentsiegelung, Frischluftschneisen, Gebäudebegrünung, Wasserflächen und öffentliche Trinkbrunnen. Als Schwammstädte sollen sie künftig mehr Wasser aufnehmen, speichern und im  Sommer kühlend wirken. Das erhöht auch die Lebensqualität gerade  für all jene, die sich keinen eigenen Balkon oder Garten leisten können: Dachgärten sind natürliche Klimaanlagen für Wohnungen und  Büros, Parks und Stadtwälder spenden Schatten und frische Luft. \n",
      "\n",
      "\n",
      "vor allem die mit den geringsten Einkommen und insbesondere  die Menschen im globalen Süden, die den Preis dafür zahlen, dass der  ökologische Fußabdruck der Reichsten am größten ist. Oder für die  Bäuer*innen, denen zunehmend die Grundlage entzogen wird. Und für  den Zusammenhalt in unserer Gesellschaft. Alle diese Folgen werden  sich vervielfachen, wenn wir jetzt nicht umsteuern. Je entschiedener  wir handeln, desto mehr Freiheiten und Alternativen sichern wir für  jetzige und künftige Generationen. Wir werden deshalb konsequent  den Weg zur Klimaneutralität gehen. Das verlangt Können, Mut und Machen. Wir stellen in einer künftigen  Regierung das Pariser Klimaabkommen in den Mittelpunkt und richten  das Handeln aller Ministerien danach aus. Wir lenken all unsere Kraft  darauf, Maßnahmen auf den Weg zu bringen, die uns auf den 1,5-GradPfad führen. Klimagerechtigkeit ist eine Frage des politischen Kanons.  Wir begreifen es als unsere Aufgabe, bessere Regeln zu schaffen, nicht  den \n",
      "\n",
      "\n",
      "möglichen Einsatz von klimafreundlichen Alternativen gewährleisten. Wir schaffen Versorgungssicherheit   mit Erneuerbaren Schneller raus aus der Kohle Nach dem Willen der Großen Koalition werden in Deutschland Kohlekraftwerke noch bis 2038 dem Klima und unserer Gesundheit schaden. Das ist mit den Klimazielen von Paris und dem 1,5- Grad-Pfad  nicht vereinbar. Wir setzen uns dafür ein, den Kohleausstieg bis 2030  zu vollenden. In diesem Sinne werden wir alle Möglichkeiten – auch  auf EU-Ebene – nutzen. Um nicht erneut den Kohlekonzernen Milliarden an Steuergeldern zu schenken, werden wir die massiven Klimaschäden der Kohleverstromung einpreisen. Das gelingt am besten über den EU- Emissionshandel – mit einem lenkenden CO2-Preis.  Sollte dieser auf europäischer Ebene nicht schnell genug erreicht  sein, setzen wir auf einen nationalen CO2-Mindestpreis im ETS für  Industrie und Strom von 60 Euro pro Tonne CO2. Ein beschleunigter  Kohleausstieg bedarf im Sinne der Versorgungssicherheit \n",
      "\n",
      "\n"
     ]
    }
   ],
   "source": [
    "# Test query\n",
    "query = \"Welche Lösungen schlagen die Grünen zum Klimawandel vor?\"\n",
    "docs = db.similarity_search(query)\n",
    "print(docs[0].page_content, \"\\n\\n\")\n",
    "print(docs[1].page_content, \"\\n\\n\")\n",
    "print(docs[2].page_content, \"\\n\\n\")"
   ]
  },
  {
   "cell_type": "markdown",
   "metadata": {},
   "source": [
    "## 4. Retrieve and generate"
   ]
  },
  {
   "cell_type": "markdown",
   "metadata": {},
   "source": [
    "### 4.1 Set up LLM chain"
   ]
  },
  {
   "cell_type": "code",
   "execution_count": null,
   "metadata": {},
   "outputs": [],
   "source": [
    "from langchain_openai import ChatOpenAI\n",
    "llm = ChatOpenAI(model_name=\"gpt-3.5-turbo\")\n",
    "\n",
    "from langchain_core.output_parsers import StrOutputParser\n",
    "output_parser = StrOutputParser()"
   ]
  },
  {
   "cell_type": "code",
   "execution_count": null,
   "metadata": {},
   "outputs": [],
   "source": [
    "# Test without retrieval\n",
    "\n",
    "# from langchain_core.prompts import ChatPromptTemplate\n",
    "# prompt = ChatPromptTemplate.from_messages([\n",
    "#     (\"system\", \"You help citizens understand the agenda of political parties.\"),\n",
    "#     (\"user\", \"{input}\")\n",
    "# ])\n",
    "\n",
    "# chain = prompt | llm | output_parser\n",
    "\n",
    "# response = chain.invoke({\"input\": \"Welche Lösungen schlagen die Grünen zum Klimawandel vor?\"})\n",
    "\n",
    "# import textwrap\n",
    "# print(textwrap.fill(response, 80))"
   ]
  },
  {
   "cell_type": "markdown",
   "metadata": {},
   "source": [
    "### 4.2 Set up retrieval mechanism"
   ]
  },
  {
   "cell_type": "code",
   "execution_count": null,
   "metadata": {},
   "outputs": [],
   "source": [
    "retriever = db.as_retriever(search_type=\"similarity\",\n",
    "                            search_kwargs={\"k\": 7})"
   ]
  },
  {
   "cell_type": "code",
   "execution_count": null,
   "metadata": {},
   "outputs": [],
   "source": [
    "from langchain_core.prompts import ChatPromptTemplate\n",
    "rag_prompt = ChatPromptTemplate.from_template(\"\"\"Beantworte die folgende Frage nur auf dem zur Verfügung gestellten Kontext.\n",
    "                                          \n",
    "                                          KONTEXT:\n",
    "                                          {context}\n",
    "\n",
    "                                          FRAGE: {question}\"\"\")"
   ]
  },
  {
   "cell_type": "code",
   "execution_count": null,
   "metadata": {},
   "outputs": [],
   "source": [
    "# from langchain_core.runnables import RunnablePassthrough\n",
    "\n",
    "# retrieval_chain = (\n",
    "#     {\"context\": retriever, \"question\": RunnablePassthrough()}\n",
    "#     | rag_prompt\n",
    "#     | llm\n",
    "#     | output_parser\n",
    "# )"
   ]
  },
  {
   "cell_type": "code",
   "execution_count": null,
   "metadata": {},
   "outputs": [],
   "source": [
    "from langchain_core.runnables import RunnablePassthrough\n",
    "from langchain_core.runnables import RunnableParallel\n",
    "\n",
    "def format_docs(docs):\n",
    "    return \"\\n\\n\".join(doc.page_content for doc in docs)\n",
    "\n",
    "rag_chain_from_docs = (\n",
    "    RunnablePassthrough.assign(context = (lambda x: format_docs(x[\"context\"])))\n",
    "    | rag_prompt\n",
    "    | llm\n",
    "    | output_parser\n",
    ")\n",
    "\n",
    "rag_chain_with_source = RunnableParallel(\n",
    "    {\"context\": retriever, \"question\": RunnablePassthrough()}\n",
    ").assign(answer=rag_chain_from_docs)"
   ]
  },
  {
   "cell_type": "markdown",
   "metadata": {},
   "source": [
    "### 4.3 Invoke the chain (generate)"
   ]
  },
  {
   "cell_type": "code",
   "execution_count": null,
   "metadata": {},
   "outputs": [],
   "source": [
    "response = rag_chain_with_source.invoke(\"Welche Lösungen schlagen die Grünen zum Klimawandel vor?\")"
   ]
  },
  {
   "cell_type": "code",
   "execution_count": null,
   "metadata": {},
   "outputs": [],
   "source": [
    "import textwrap\n",
    "print(textwrap.fill(response[\"answer\"], 80))"
   ]
  },
  {
   "cell_type": "code",
   "execution_count": null,
   "metadata": {},
   "outputs": [],
   "source": [
    "for context_snippet in response[\"context\"]:\n",
    "    print(textwrap.fill(context_snippet.page_content), 80)\n",
    "    print(\"\\n\\n -------------------- \\n\\n\")"
   ]
  }
 ],
 "metadata": {
  "kernelspec": {
   "display_name": "politik-nlp",
   "language": "python",
   "name": "python3"
  },
  "language_info": {
   "codemirror_mode": {
    "name": "ipython",
    "version": 3
   },
   "file_extension": ".py",
   "mimetype": "text/x-python",
   "name": "python",
   "nbconvert_exporter": "python",
   "pygments_lexer": "ipython3",
   "version": "3.10.13"
  }
 },
 "nbformat": 4,
 "nbformat_minor": 2
}
