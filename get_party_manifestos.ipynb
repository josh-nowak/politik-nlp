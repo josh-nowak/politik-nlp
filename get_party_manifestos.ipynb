{
 "cells": [
  {
   "cell_type": "markdown",
   "metadata": {},
   "source": [
    "# Extract raw text from party manifestos"
   ]
  },
  {
   "cell_type": "markdown",
   "metadata": {},
   "source": [
    "Party manifestos (\"Parteiprogramme\") are an interesting source for NLP projects because they capture the positions and intentions of a political party at a given time. This information can then be contrasted with later political developments and respective textual sources (e.g., parliament protocols).  \n",
    "  \n",
    "The below code loads the raw text from the party manifesto PDFs, which were retrieved from the following URLs on Jan 28, 2024:  \n",
    "- https://www.abgeordnetenwatch.de/bundestag/wahl-2021/wahlprogramme\n",
    "- https://www.abgeordnetenwatch.de/bundestag/wahl-2017/wahlprogramme"
   ]
  },
  {
   "cell_type": "code",
   "execution_count": 1,
   "metadata": {},
   "outputs": [],
   "source": [
    "from src.helpers import extract_pdf_viewport"
   ]
  },
  {
   "cell_type": "markdown",
   "metadata": {},
   "source": [
    "### 2017 manifestos "
   ]
  },
  {
   "cell_type": "code",
   "execution_count": 2,
   "metadata": {},
   "outputs": [],
   "source": [
    "gruene_2017 = extract_pdf_viewport(pdf_origin = \"data/manifestos/pdf/2017-gruene.pdf\",\n",
    "                                    txt_target = \"data/manifestos/txt/2017-gruene.txt\",\n",
    "                                    margins = [75, 50, 75, 50], # top, right, bottom, left page margin\n",
    "                                    page_range=[7, 238]) # both ends inclusive, page count starts at one\n",
    "spd_2017 = extract_pdf_viewport(pdf_origin = \"data/manifestos/pdf/2017-spd.pdf\",\n",
    "                                    txt_target = \"data/manifestos/txt/2017-spd.txt\",\n",
    "                                    margins = [50, 20, 30, 20],\n",
    "                                    page_range=[6, 113])\n",
    "cdu_2017 = extract_pdf_viewport(pdf_origin = \"data/manifestos/pdf/2017-cdu.pdf\",\n",
    "                                    txt_target = \"data/manifestos/txt/2017-cdu.txt\",\n",
    "                                    margins = [75, 50, 75, 50], \n",
    "                                    page_range=[5, 76])\n",
    "linke_2017 = extract_pdf_viewport(pdf_origin = \"data/manifestos/pdf/2017-linke.pdf\",\n",
    "                                    txt_target = \"data/manifestos/txt/2017-linke.txt\",\n",
    "                                    margins = [30, 30, 40, 30],\n",
    "                                    page_range=[7, 127])\n",
    "fdp_2017 = extract_pdf_viewport(pdf_origin = \"data/manifestos/pdf/2017-fdp.pdf\",\n",
    "                                    txt_target = \"data/manifestos/txt/2017-fdp.txt\",\n",
    "                                    margins = [50, 50, 50, 50],\n",
    "                                    page_range=[9, 94])\n",
    "afd_2017 = extract_pdf_viewport(pdf_origin = \"data/manifestos/pdf/2017-afd.pdf\",\n",
    "                                    txt_target = \"data/manifestos/txt/2017-afd.txt\",\n",
    "                                    margins = [50, 60, 30, 60],\n",
    "                                    page_range=[5, 72])"
   ]
  },
  {
   "cell_type": "markdown",
   "metadata": {},
   "source": [
    "### 2021 manifestos"
   ]
  },
  {
   "cell_type": "code",
   "execution_count": 3,
   "metadata": {},
   "outputs": [],
   "source": [
    "gruene_2021 = extract_pdf_viewport(pdf_origin = \"data/manifestos/pdf/2021-gruene.pdf\",\n",
    "                                    txt_target = \"data/manifestos/txt/2021-gruene.txt\",\n",
    "                                    margins = [75, 50, 75, 50], # top, right, bottom, left\n",
    "                                    page_range=[9, 258])\n",
    "spd_2021 = extract_pdf_viewport(pdf_origin = \"data/manifestos/pdf/2021-spd.pdf\",\n",
    "                                    txt_target = \"data/manifestos/txt/2021-spd.txt\",\n",
    "                                    margins = [80, 20, 50, 20],\n",
    "                                    page_range=[3, 65])\n",
    "cdu_2021 = extract_pdf_viewport(pdf_origin = \"data/manifestos/pdf/2021-cdu.pdf\",\n",
    "                                    txt_target = \"data/manifestos/txt/2021-cdu.txt\",\n",
    "                                    margins = [50, 50, 50, 70], \n",
    "                                    page_range=[5, 140])\n",
    "linke_2021 = extract_pdf_viewport(pdf_origin = \"data/manifestos/pdf/2021-linke.pdf\",\n",
    "                                    txt_target = \"data/manifestos/txt/2021-linke.txt\",\n",
    "                                    margins = [30, 30, 40, 30],\n",
    "                                    page_range=[7, 155])\n",
    "fdp_2021 = extract_pdf_viewport(pdf_origin = \"data/manifestos/pdf/2021-fdp.pdf\",\n",
    "                                    txt_target = \"data/manifestos/txt/2021-fdp.txt\",\n",
    "                                    margins = [30, 30, 60, 30],\n",
    "                                    page_range=[4, 91])\n",
    "afd_2021 = extract_pdf_viewport(pdf_origin = \"data/manifestos/pdf/2021-afd.pdf\",\n",
    "                                    txt_target = \"data/manifestos/txt/2021-afd.txt\",\n",
    "                                    margins = [50, 105, 30, 105],\n",
    "                                    page_range=[7, 101])"
   ]
  }
 ],
 "metadata": {
  "kernelspec": {
   "display_name": "politik-nlp",
   "language": "python",
   "name": "python3"
  },
  "language_info": {
   "codemirror_mode": {
    "name": "ipython",
    "version": 3
   },
   "file_extension": ".py",
   "mimetype": "text/x-python",
   "name": "python",
   "nbconvert_exporter": "python",
   "pygments_lexer": "ipython3",
   "version": "3.10.13"
  }
 },
 "nbformat": 4,
 "nbformat_minor": 2
}
