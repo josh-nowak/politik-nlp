{
 "cells": [
  {
   "cell_type": "code",
   "execution_count": 1,
   "metadata": {},
   "outputs": [],
   "source": [
    "import requests\n",
    "\n",
    "# xml libraries\n",
    "import xml.etree.ElementTree as ET\n",
    "import elementpath as ep"
   ]
  },
  {
   "cell_type": "markdown",
   "metadata": {},
   "source": [
    "# Download protocols via Bundestag API\n",
    "\n",
    "API documentation: https://dip.bundestag.de/%C3%BCber-dip/hilfe/api\n",
    "\n",
    "Unfortunately, the XML in the API response is limited (just plain text) compared to the XML files that can be [manually downloaded](https://www.bundestag.de/services/opendata). The team [mentioned having fixed this issue](https://dip.bundestag.de/%C3%BCber-dip/neu#content) in an update in December 2023 but it does not seem to be available yet. Might be worth contacting them about it."
   ]
  },
  {
   "cell_type": "code",
   "execution_count": 2,
   "metadata": {},
   "outputs": [],
   "source": [
    "def download_protocols(start_date, end_date, verbose=False, data_dir = \"data/protocols\", format=\"xml\"):\n",
    "    request_url = \"https://search.dip.bundestag.de/api/v1/plenarprotokoll-text\"\n",
    "    api_key = \"rgsaY4U.oZRQKUHdJhF9qguHMkwCGIoLaqEcaHjYLF\"\n",
    "    cursor = \"*\"\n",
    "    previous_cursor = None\n",
    "\n",
    "    # Keep requesting data until the cursor is the same as the previous cursor\n",
    "    while cursor != previous_cursor:\n",
    "        \n",
    "        previous_cursor = cursor\n",
    "        \n",
    "        if verbose:\n",
    "            print(f\"Requesting data with cursor {cursor}.\")\n",
    "        \n",
    "        response = requests.get(request_url,\n",
    "                                params = {\"apikey\": api_key,\n",
    "                                          \"f.zuordnung\": \"BT\",\n",
    "                                          \"f.datum.start\": start_date,\n",
    "                                          \"f.datum.end\": end_date,\n",
    "                                          \"cursor\": cursor,\n",
    "                                          \"format\": \"xml\"})\n",
    "\n",
    "        # print request\n",
    "        print(response.url)\n",
    "\n",
    "        if response.status_code == 200:\n",
    "            # Convert the response to XML\n",
    "            xml_doc = ET.fromstring(response.content)\n",
    "            \n",
    "            for doc in xml_doc.findall(\".//document\"):\n",
    "                # Get the document number\n",
    "                doc_number = doc.find(\"dokumentnummer\").text\n",
    "                # Replace \"/\" with \"-\" in the document number to make it safe for file name\n",
    "                safe_doc_number = doc_number.replace(\"/\", \"-\")\n",
    "\n",
    "                if format == \"xml\":\n",
    "                    # Save the document as XML file\n",
    "                    with open(f'{data_dir}/xml/protocol_{safe_doc_number}.xml', 'w') as file:\n",
    "                        file.write(ET.tostring(doc, encoding=\"unicode\"))\n",
    "                    if verbose:\n",
    "                        print(f\"XML file saved for protocol {safe_doc_number}.\")\n",
    "                elif format == \"txt\":\n",
    "                    # Save the document as text file\n",
    "                    with open(f'{data_dir}/txt/protocol_{safe_doc_number}.txt', 'w') as file:\n",
    "                        file.write(doc.find(\"text\").text)\n",
    "                    if verbose:\n",
    "                        print(f\"Text file saved for protocol {safe_doc_number}.\")\n",
    "                else:\n",
    "                    print(\"Invalid format. Please use 'xml' or 'txt'.\")\n",
    "                    break\n",
    "                \n",
    "            # Update the cursor\n",
    "            cursor = xml_doc.find(\".//cursor\").text\n",
    "        else:\n",
    "            print(\"Failed to fetch data. Status code:\", response.status_code)\n",
    "            break\n"
   ]
  },
  {
   "cell_type": "code",
   "execution_count": 3,
   "metadata": {},
   "outputs": [
    {
     "name": "stdout",
     "output_type": "stream",
     "text": [
      "Requesting data with cursor *.\n",
      "https://search.dip.bundestag.de/api/v1/plenarprotokoll-text?apikey=rgsaY4U.oZRQKUHdJhF9qguHMkwCGIoLaqEcaHjYLF&f.zuordnung=BT&f.datum.start=2021-10-26&f.datum.end=2024-02-12&cursor=%2A&format=xml\n"
     ]
    },
    {
     "ename": "FileNotFoundError",
     "evalue": "[Errno 2] No such file or directory: 'data/protocols/txt/protocol_20-152.txt'",
     "output_type": "error",
     "traceback": [
      "\u001b[0;31m---------------------------------------------------------------------------\u001b[0m",
      "\u001b[0;31mFileNotFoundError\u001b[0m                         Traceback (most recent call last)",
      "Cell \u001b[0;32mIn[3], line 1\u001b[0m\n\u001b[0;32m----> 1\u001b[0m \u001b[43mdownload_protocols\u001b[49m\u001b[43m(\u001b[49m\u001b[38;5;124;43m\"\u001b[39;49m\u001b[38;5;124;43m2021-10-26\u001b[39;49m\u001b[38;5;124;43m\"\u001b[39;49m\u001b[43m,\u001b[49m\u001b[43m \u001b[49m\u001b[38;5;66;43;03m# inaguration date of the current Bundestag\u001b[39;49;00m\n\u001b[1;32m      2\u001b[0m \u001b[43m                   \u001b[49m\u001b[38;5;124;43m\"\u001b[39;49m\u001b[38;5;124;43m2024-02-12\u001b[39;49m\u001b[38;5;124;43m\"\u001b[39;49m\u001b[43m,\u001b[49m\u001b[43m \u001b[49m\u001b[38;5;66;43;03m# update this date to the current date\u001b[39;49;00m\n\u001b[1;32m      3\u001b[0m \u001b[43m                   \u001b[49m\u001b[38;5;28;43mformat\u001b[39;49m\u001b[38;5;241;43m=\u001b[39;49m\u001b[38;5;124;43m\"\u001b[39;49m\u001b[38;5;124;43mtxt\u001b[39;49m\u001b[38;5;124;43m\"\u001b[39;49m\u001b[43m,\u001b[49m\n\u001b[1;32m      4\u001b[0m \u001b[43m                   \u001b[49m\u001b[43mverbose\u001b[49m\u001b[38;5;241;43m=\u001b[39;49m\u001b[38;5;28;43;01mTrue\u001b[39;49;00m\u001b[43m)\u001b[49m\n",
      "Cell \u001b[0;32mIn[2], line 44\u001b[0m, in \u001b[0;36mdownload_protocols\u001b[0;34m(start_date, end_date, verbose, data_dir, format)\u001b[0m\n\u001b[1;32m     41\u001b[0m         \u001b[38;5;28mprint\u001b[39m(\u001b[38;5;124mf\u001b[39m\u001b[38;5;124m\"\u001b[39m\u001b[38;5;124mXML file saved for protocol \u001b[39m\u001b[38;5;132;01m{\u001b[39;00msafe_doc_number\u001b[38;5;132;01m}\u001b[39;00m\u001b[38;5;124m.\u001b[39m\u001b[38;5;124m\"\u001b[39m)\n\u001b[1;32m     42\u001b[0m \u001b[38;5;28;01melif\u001b[39;00m \u001b[38;5;28mformat\u001b[39m \u001b[38;5;241m==\u001b[39m \u001b[38;5;124m\"\u001b[39m\u001b[38;5;124mtxt\u001b[39m\u001b[38;5;124m\"\u001b[39m:\n\u001b[1;32m     43\u001b[0m     \u001b[38;5;66;03m# Save the document as text file\u001b[39;00m\n\u001b[0;32m---> 44\u001b[0m     \u001b[38;5;28;01mwith\u001b[39;00m \u001b[38;5;28;43mopen\u001b[39;49m\u001b[43m(\u001b[49m\u001b[38;5;124;43mf\u001b[39;49m\u001b[38;5;124;43m'\u001b[39;49m\u001b[38;5;132;43;01m{\u001b[39;49;00m\u001b[43mdata_dir\u001b[49m\u001b[38;5;132;43;01m}\u001b[39;49;00m\u001b[38;5;124;43m/txt/protocol_\u001b[39;49m\u001b[38;5;132;43;01m{\u001b[39;49;00m\u001b[43msafe_doc_number\u001b[49m\u001b[38;5;132;43;01m}\u001b[39;49;00m\u001b[38;5;124;43m.txt\u001b[39;49m\u001b[38;5;124;43m'\u001b[39;49m\u001b[43m,\u001b[49m\u001b[43m \u001b[49m\u001b[38;5;124;43m'\u001b[39;49m\u001b[38;5;124;43mw\u001b[39;49m\u001b[38;5;124;43m'\u001b[39;49m\u001b[43m)\u001b[49m \u001b[38;5;28;01mas\u001b[39;00m file:\n\u001b[1;32m     45\u001b[0m         file\u001b[38;5;241m.\u001b[39mwrite(doc\u001b[38;5;241m.\u001b[39mfind(\u001b[38;5;124m\"\u001b[39m\u001b[38;5;124mtext\u001b[39m\u001b[38;5;124m\"\u001b[39m)\u001b[38;5;241m.\u001b[39mtext)\n\u001b[1;32m     46\u001b[0m     \u001b[38;5;28;01mif\u001b[39;00m verbose:\n",
      "File \u001b[0;32m~/opt/anaconda3/envs/politik-nlp/lib/python3.10/site-packages/IPython/core/interactiveshell.py:310\u001b[0m, in \u001b[0;36m_modified_open\u001b[0;34m(file, *args, **kwargs)\u001b[0m\n\u001b[1;32m    303\u001b[0m \u001b[38;5;28;01mif\u001b[39;00m file \u001b[38;5;129;01min\u001b[39;00m {\u001b[38;5;241m0\u001b[39m, \u001b[38;5;241m1\u001b[39m, \u001b[38;5;241m2\u001b[39m}:\n\u001b[1;32m    304\u001b[0m     \u001b[38;5;28;01mraise\u001b[39;00m \u001b[38;5;167;01mValueError\u001b[39;00m(\n\u001b[1;32m    305\u001b[0m         \u001b[38;5;124mf\u001b[39m\u001b[38;5;124m\"\u001b[39m\u001b[38;5;124mIPython won\u001b[39m\u001b[38;5;124m'\u001b[39m\u001b[38;5;124mt let you open fd=\u001b[39m\u001b[38;5;132;01m{\u001b[39;00mfile\u001b[38;5;132;01m}\u001b[39;00m\u001b[38;5;124m by default \u001b[39m\u001b[38;5;124m\"\u001b[39m\n\u001b[1;32m    306\u001b[0m         \u001b[38;5;124m\"\u001b[39m\u001b[38;5;124mas it is likely to crash IPython. If you know what you are doing, \u001b[39m\u001b[38;5;124m\"\u001b[39m\n\u001b[1;32m    307\u001b[0m         \u001b[38;5;124m\"\u001b[39m\u001b[38;5;124myou can use builtins\u001b[39m\u001b[38;5;124m'\u001b[39m\u001b[38;5;124m open.\u001b[39m\u001b[38;5;124m\"\u001b[39m\n\u001b[1;32m    308\u001b[0m     )\n\u001b[0;32m--> 310\u001b[0m \u001b[38;5;28;01mreturn\u001b[39;00m \u001b[43mio_open\u001b[49m\u001b[43m(\u001b[49m\u001b[43mfile\u001b[49m\u001b[43m,\u001b[49m\u001b[43m \u001b[49m\u001b[38;5;241;43m*\u001b[39;49m\u001b[43margs\u001b[49m\u001b[43m,\u001b[49m\u001b[43m \u001b[49m\u001b[38;5;241;43m*\u001b[39;49m\u001b[38;5;241;43m*\u001b[39;49m\u001b[43mkwargs\u001b[49m\u001b[43m)\u001b[49m\n",
      "\u001b[0;31mFileNotFoundError\u001b[0m: [Errno 2] No such file or directory: 'data/protocols/txt/protocol_20-152.txt'"
     ]
    }
   ],
   "source": [
    "download_protocols(\"2021-10-26\", # inaguration date of the current Bundestag\n",
    "                   \"2024-02-12\", # update this date to the current date\n",
    "                   format=\"txt\",\n",
    "                   verbose=True)"
   ]
  },
  {
   "cell_type": "code",
   "execution_count": null,
   "metadata": {},
   "outputs": [],
   "source": []
  }
 ],
 "metadata": {
  "kernelspec": {
   "display_name": "bundestag",
   "language": "python",
   "name": "python3"
  },
  "language_info": {
   "codemirror_mode": {
    "name": "ipython",
    "version": 3
   },
   "file_extension": ".py",
   "mimetype": "text/x-python",
   "name": "python",
   "nbconvert_exporter": "python",
   "pygments_lexer": "ipython3",
   "version": "3.10.13"
  }
 },
 "nbformat": 4,
 "nbformat_minor": 2
}
