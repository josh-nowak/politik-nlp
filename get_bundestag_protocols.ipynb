{
 "cells": [
  {
   "cell_type": "markdown",
   "metadata": {},
   "source": [
    "# Download protocols via Bundestag API\n",
    "\n",
    "API documentation: https://dip.bundestag.de/%C3%BCber-dip/hilfe/api\n",
    "\n",
    "Unfortunately, the XML in the API response is limited (just plain text) compared to the XML files that can be [manually downloaded](https://www.bundestag.de/services/opendata). The team [mentioned having fixed this issue](https://dip.bundestag.de/%C3%BCber-dip/neu#content) in an update in December 2023 but it does not seem to be available yet. Might be worth contacting them about it."
   ]
  },
  {
   "cell_type": "code",
   "execution_count": null,
   "metadata": {},
   "outputs": [],
   "source": [
    "import requests\n",
    "\n",
    "# xml libraries\n",
    "import xml.etree.ElementTree as ET"
   ]
  },
  {
   "cell_type": "code",
   "execution_count": null,
   "metadata": {},
   "outputs": [],
   "source": [
    "def download_protocols(start_date, end_date, verbose=False, data_dir = \"data/protocols\", format=\"xml\"):\n",
    "    request_url = \"https://search.dip.bundestag.de/api/v1/plenarprotokoll-text\"\n",
    "    api_key = \"I9FKdCn.hbfefNWCY336dL6x62vfwNKpoN2RZ1gp21\"\n",
    "    cursor = \"*\"\n",
    "    previous_cursor = None\n",
    "\n",
    "    # Keep requesting data until the cursor is the same as the previous cursor\n",
    "    while cursor != previous_cursor:\n",
    "        \n",
    "        previous_cursor = cursor\n",
    "        \n",
    "        if verbose:\n",
    "            print(f\"Requesting data with cursor {cursor}.\")\n",
    "        \n",
    "        response = requests.get(request_url,\n",
    "                                params = {\"apikey\": api_key,\n",
    "                                          \"f.zuordnung\": \"BT\",\n",
    "                                          \"f.datum.start\": start_date,\n",
    "                                          \"f.datum.end\": end_date,\n",
    "                                          \"cursor\": cursor,\n",
    "                                          \"format\": \"xml\"})\n",
    "\n",
    "        if verbose:\n",
    "            print(f\"status {response.status_code}: {response.url}\")\n",
    "\n",
    "        if response.status_code == 200:\n",
    "            # Convert the response to XML\n",
    "            xml_doc = ET.fromstring(response.content)\n",
    "            \n",
    "            for doc in xml_doc.findall(\".//document\"):\n",
    "                # Get the document number\n",
    "                doc_number = doc.find(\"dokumentnummer\").text\n",
    "                # Replace \"/\" with \"-\" in the document number to make it safe for file name\n",
    "                safe_doc_number = doc_number.replace(\"/\", \"-\")\n",
    "\n",
    "                if format == \"xml\":\n",
    "                    # Save the document as XML file\n",
    "                    with open(f'{data_dir}/xml/protocol_{safe_doc_number}.xml', 'w') as file:\n",
    "                        file.write(ET.tostring(doc, encoding=\"unicode\"))\n",
    "                    if verbose:\n",
    "                        print(f\"XML file saved for protocol {safe_doc_number}.\")\n",
    "                elif format == \"txt\":\n",
    "                    # Save the document as text file\n",
    "                    with open(f'{data_dir}/txt/protocol_{safe_doc_number}.txt', 'w') as file:\n",
    "                        file.write(doc.find(\"text\").text)\n",
    "                    if verbose:\n",
    "                        print(f\"Text file saved for protocol {safe_doc_number}.\")\n",
    "                else:\n",
    "                    print(\"Invalid format. Please use 'xml' or 'txt'.\")\n",
    "                    break\n",
    "                \n",
    "            # Update the cursor\n",
    "            cursor = xml_doc.find(\".//cursor\").text\n",
    "        else:\n",
    "            print(\"Failed to fetch data. Status code:\", response.status_code)\n",
    "            break\n"
   ]
  },
  {
   "cell_type": "code",
   "execution_count": null,
   "metadata": {},
   "outputs": [],
   "source": [
    "download_protocols(\"2021-10-26\",\n",
    "                   \"2024-05-29\",\n",
    "                   format=\"txt\",\n",
    "                   verbose=True)"
   ]
  }
 ],
 "metadata": {
  "kernelspec": {
   "display_name": "bundestag",
   "language": "python",
   "name": "python3"
  },
  "language_info": {
   "codemirror_mode": {
    "name": "ipython",
    "version": 3
   },
   "file_extension": ".py",
   "mimetype": "text/x-python",
   "name": "python",
   "nbconvert_exporter": "python",
   "pygments_lexer": "ipython3",
   "version": "3.10.13"
  }
 },
 "nbformat": 4,
 "nbformat_minor": 2
}
