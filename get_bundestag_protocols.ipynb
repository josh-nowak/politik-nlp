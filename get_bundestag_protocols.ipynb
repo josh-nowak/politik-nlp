{
 "cells": [
  {
   "cell_type": "code",
   "execution_count": 1,
   "metadata": {},
   "outputs": [],
   "source": [
    "import requests\n",
    "\n",
    "# xml libraries\n",
    "import xml.etree.ElementTree as ET\n",
    "import elementpath as ep"
   ]
  },
  {
   "cell_type": "markdown",
   "metadata": {},
   "source": [
    "# Download protocols via Bundestag API\n",
    "\n",
    "API documentation: https://dip.bundestag.de/%C3%BCber-dip/hilfe/api\n",
    "\n",
    "Unfortunately, the XML in the API response is limited (just plain text) compared to the XML files that can be [manually downloaded](https://www.bundestag.de/services/opendata). The team [mentioned having fixed this issue](https://dip.bundestag.de/%C3%BCber-dip/neu#content) in an update in December 2023 but it does not seem to be available yet. Might be worth contacting them about it."
   ]
  },
  {
   "cell_type": "code",
   "execution_count": 2,
   "metadata": {},
   "outputs": [],
   "source": [
    "def download_protocols(start_date, end_date, verbose=False, data_dir = \"data/protocols\"):\n",
    "    request_url = \"https://search.dip.bundestag.de/api/v1/plenarprotokoll-text\"\n",
    "    api_key = \"rgsaY4U.oZRQKUHdJhF9qguHMkwCGIoLaqEcaHjYLF\"\n",
    "    cursor = \"*\"\n",
    "    previous_cursor = None\n",
    "\n",
    "    # Keep requesting data until the cursor is the same as the previous cursor\n",
    "    while cursor != previous_cursor:\n",
    "        \n",
    "        previous_cursor = cursor\n",
    "        \n",
    "        if verbose:\n",
    "            print(f\"Requesting data with cursor {cursor}.\")\n",
    "        \n",
    "        response = requests.get(request_url,\n",
    "                                params = {\"apikey\": api_key,\n",
    "                                          \"f.zuordnung\": \"BT\",\n",
    "                                          \"f.datum.start\": start_date,\n",
    "                                          \"f.datum.end\": end_date,\n",
    "                                          \"cursor\": cursor,\n",
    "                                          \"format\": \"xml\"})\n",
    "\n",
    "        # print request\n",
    "        print(response.url)\n",
    "\n",
    "        if response.status_code == 200:\n",
    "            # Convert the response to XML\n",
    "            xml_doc = ET.fromstring(response.content)\n",
    "            \n",
    "            for doc in xml_doc.findall(\".//document\"):\n",
    "                # Get the document number\n",
    "                doc_number = doc.find(\"dokumentnummer\").text\n",
    "                # Replace \"/\" with \"-\" in the document number to make it safe for file name\n",
    "                safe_doc_number = doc_number.replace(\"/\", \"-\")\n",
    "                # Save the document as XML file\n",
    "                with open(f'{data_dir}/protocol_{safe_doc_number}.xml', 'w') as file:\n",
    "                    file.write(ET.tostring(doc, encoding=\"unicode\"))\n",
    "                if verbose:\n",
    "                    print(f\"XML file saved for protocol {safe_doc_number}.\")\n",
    "                \n",
    "            # Update the cursor\n",
    "            cursor = xml_doc.find(\".//cursor\").text\n",
    "        else:\n",
    "            print(\"Failed to fetch data. Status code:\", response.status_code)\n",
    "            break\n"
   ]
  },
  {
   "cell_type": "code",
   "execution_count": 3,
   "metadata": {},
   "outputs": [
    {
     "name": "stdout",
     "output_type": "stream",
     "text": [
      "https://search.dip.bundestag.de/api/v1/plenarprotokoll-text?apikey=rgsaY4U.oZRQKUHdJhF9qguHMkwCGIoLaqEcaHjYLF&f.zuordnung=BT&f.datum.start=2021-10-26&f.datum.end=2024-02-12&cursor=%2A&format=xml\n",
      "https://search.dip.bundestag.de/api/v1/plenarprotokoll-text?apikey=rgsaY4U.oZRQKUHdJhF9qguHMkwCGIoLaqEcaHjYLF&f.zuordnung=BT&f.datum.start=2021-10-26&f.datum.end=2024-02-12&cursor=AoJw-Ku1sYwDNFBsZW5hcnByb3Rva29sbC01NjE3&format=xml\n",
      "https://search.dip.bundestag.de/api/v1/plenarprotokoll-text?apikey=rgsaY4U.oZRQKUHdJhF9qguHMkwCGIoLaqEcaHjYLF&f.zuordnung=BT&f.datum.start=2021-10-26&f.datum.end=2024-02-12&cursor=AoJwuNml14sDNFBsZW5hcnByb3Rva29sbC01NjA1&format=xml\n",
      "https://search.dip.bundestag.de/api/v1/plenarprotokoll-text?apikey=rgsaY4U.oZRQKUHdJhF9qguHMkwCGIoLaqEcaHjYLF&f.zuordnung=BT&f.datum.start=2021-10-26&f.datum.end=2024-02-12&cursor=AoJwkJ-V3ooDNFBsZW5hcnByb3Rva29sbC01NTkz&format=xml\n",
      "https://search.dip.bundestag.de/api/v1/plenarprotokoll-text?apikey=rgsaY4U.oZRQKUHdJhF9qguHMkwCGIoLaqEcaHjYLF&f.zuordnung=BT&f.datum.start=2021-10-26&f.datum.end=2024-02-12&cursor=AoJw0Mjs84gDNFBsZW5hcnByb3Rva29sbC01NTgy&format=xml\n",
      "https://search.dip.bundestag.de/api/v1/plenarprotokoll-text?apikey=rgsaY4U.oZRQKUHdJhF9qguHMkwCGIoLaqEcaHjYLF&f.zuordnung=BT&f.datum.start=2021-10-26&f.datum.end=2024-02-12&cursor=AoJwkJqQhYgDNFBsZW5hcnByb3Rva29sbC01NTcw&format=xml\n",
      "https://search.dip.bundestag.de/api/v1/plenarprotokoll-text?apikey=rgsaY4U.oZRQKUHdJhF9qguHMkwCGIoLaqEcaHjYLF&f.zuordnung=BT&f.datum.start=2021-10-26&f.datum.end=2024-02-12&cursor=AoJw0OuzlocDNFBsZW5hcnByb3Rva29sbC01NTU5&format=xml\n",
      "https://search.dip.bundestag.de/api/v1/plenarprotokoll-text?apikey=rgsaY4U.oZRQKUHdJhF9qguHMkwCGIoLaqEcaHjYLF&f.zuordnung=BT&f.datum.start=2021-10-26&f.datum.end=2024-02-12&cursor=AoJw-Mu4-YUDNFBsZW5hcnByb3Rva29sbC01NTQ3&format=xml\n",
      "https://search.dip.bundestag.de/api/v1/plenarprotokoll-text?apikey=rgsaY4U.oZRQKUHdJhF9qguHMkwCGIoLaqEcaHjYLF&f.zuordnung=BT&f.datum.start=2021-10-26&f.datum.end=2024-02-12&cursor=AoJwuPzV5oQDNFBsZW5hcnByb3Rva29sbC01NTM2&format=xml\n",
      "https://search.dip.bundestag.de/api/v1/plenarprotokoll-text?apikey=rgsaY4U.oZRQKUHdJhF9qguHMkwCGIoLaqEcaHjYLF&f.zuordnung=BT&f.datum.start=2021-10-26&f.datum.end=2024-02-12&cursor=AoJw0Lu1-oMDNFBsZW5hcnByb3Rva29sbC01NTIz&format=xml\n",
      "https://search.dip.bundestag.de/api/v1/plenarprotokoll-text?apikey=rgsaY4U.oZRQKUHdJhF9qguHMkwCGIoLaqEcaHjYLF&f.zuordnung=BT&f.datum.start=2021-10-26&f.datum.end=2024-02-12&cursor=AoJwkK7fr4MDNFBsZW5hcnByb3Rva29sbC01NTEy&format=xml\n",
      "https://search.dip.bundestag.de/api/v1/plenarprotokoll-text?apikey=rgsaY4U.oZRQKUHdJhF9qguHMkwCGIoLaqEcaHjYLF&f.zuordnung=BT&f.datum.start=2021-10-26&f.datum.end=2024-02-12&cursor=AoJw0Ne2xYEDNFBsZW5hcnByb3Rva29sbC01NTAw&format=xml\n",
      "https://search.dip.bundestag.de/api/v1/plenarprotokoll-text?apikey=rgsaY4U.oZRQKUHdJhF9qguHMkwCGIoLaqEcaHjYLF&f.zuordnung=BT&f.datum.start=2021-10-26&f.datum.end=2024-02-12&cursor=AoJw0PSj2YADNFBsZW5hcnByb3Rva29sbC01NDg3&format=xml\n",
      "https://search.dip.bundestag.de/api/v1/plenarprotokoll-text?apikey=rgsaY4U.oZRQKUHdJhF9qguHMkwCGIoLaqEcaHjYLF&f.zuordnung=BT&f.datum.start=2021-10-26&f.datum.end=2024-02-12&cursor=AoJwuJPS2P8CNFBsZW5hcnByb3Rva29sbC01NDc2&format=xml\n",
      "https://search.dip.bundestag.de/api/v1/plenarprotokoll-text?apikey=rgsaY4U.oZRQKUHdJhF9qguHMkwCGIoLaqEcaHjYLF&f.zuordnung=BT&f.datum.start=2021-10-26&f.datum.end=2024-02-12&cursor=AoJw-NqCy_4CNFBsZW5hcnByb3Rva29sbC01NDU1&format=xml\n",
      "https://search.dip.bundestag.de/api/v1/plenarprotokoll-text?apikey=rgsaY4U.oZRQKUHdJhF9qguHMkwCGIoLaqEcaHjYLF&f.zuordnung=BT&f.datum.start=2021-10-26&f.datum.end=2024-02-12&cursor=AoJwuIGtmf0CNFBsZW5hcnByb3Rva29sbC01NDM1&format=xml\n",
      "https://search.dip.bundestag.de/api/v1/plenarprotokoll-text?apikey=rgsaY4U.oZRQKUHdJhF9qguHMkwCGIoLaqEcaHjYLF&f.zuordnung=BT&f.datum.start=2021-10-26&f.datum.end=2024-02-12&cursor=AoJwkNuC3vwCNFBsZW5hcnByb3Rva29sbC01NDMy&format=xml\n"
     ]
    }
   ],
   "source": [
    "download_protocols(\"2021-10-26\", \"2024-02-12\")"
   ]
  },
  {
   "cell_type": "code",
   "execution_count": null,
   "metadata": {},
   "outputs": [],
   "source": []
  }
 ],
 "metadata": {
  "kernelspec": {
   "display_name": "bundestag",
   "language": "python",
   "name": "python3"
  },
  "language_info": {
   "codemirror_mode": {
    "name": "ipython",
    "version": 3
   },
   "file_extension": ".py",
   "mimetype": "text/x-python",
   "name": "python",
   "nbconvert_exporter": "python",
   "pygments_lexer": "ipython3",
   "version": "3.10.13"
  }
 },
 "nbformat": 4,
 "nbformat_minor": 2
}
