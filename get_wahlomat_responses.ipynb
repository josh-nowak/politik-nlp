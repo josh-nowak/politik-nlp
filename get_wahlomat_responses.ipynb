{
 "cells": [
  {
   "cell_type": "markdown",
   "metadata": {},
   "source": [
    "# Structurize Wahl-O-Mat responses from 2021\n",
    "\n",
    "The Wahl-O-Mat for the German parliamentary elections in 2021 can be found here: https://www.wahl-o-mat.de/bundestagswahl2021/app/main_app.html\n",
    "\n",
    "For each of 38 political statements in the Wahl-O-Mat, parties shared their positions (yes/no/neutral) and a short explanation. \n",
    "\n",
    "After going through the Wahl-O-Mat, all these explanations can be viewed. I saved them as HTML files and turned them into a DataFrame below."
   ]
  },
  {
   "cell_type": "code",
   "execution_count": 1,
   "metadata": {},
   "outputs": [
    {
     "name": "stdout",
     "output_type": "stream",
     "text": [
      "Intel MKL WARNING: Support of Intel(R) Streaming SIMD Extensions 4.2 (Intel(R) SSE4.2) enabled only processors has been deprecated. Intel oneAPI Math Kernel Library 2025.0 will require Intel(R) Advanced Vector Extensions (Intel(R) AVX) instructions.\n",
      "Intel MKL WARNING: Support of Intel(R) Streaming SIMD Extensions 4.2 (Intel(R) SSE4.2) enabled only processors has been deprecated. Intel oneAPI Math Kernel Library 2025.0 will require Intel(R) Advanced Vector Extensions (Intel(R) AVX) instructions.\n"
     ]
    }
   ],
   "source": [
    "import re\n",
    "import pandas as pd\n",
    "\n",
    "with open('wahlomat_responses_2021/Standpunkte Wahl-O-Mat.html', 'r', encoding='utf-8') as file:\n",
    "        content = file.read()\n",
    "\n",
    "# Keep only the parties who are in the parliament\n",
    "content = content.split('Die FREIEN WÄHLER sind 2010')[0]\n",
    "\n",
    "# Strip all newlines\n",
    "content = content.replace('\\n', '')\n",
    "\n",
    "# Remove multiple spaces\n",
    "content = re.sub(' +', ' ', content)\n",
    "\n",
    "# Updated regular expression patterns\n",
    "statement_pattern = r'gestimmt\\.\\D*gestimmt\\.(.*?)Begr'\n",
    "response_pattern = r'Die Partei hat (nicht zugestimmt|zugestimmt|neutral gestimmt)\\. Die Partei hat'\n",
    "explanation_pattern = r'„(.*?)”'\n",
    "\n",
    "# Find all matches with DOTALL to include newlines in the statement\n",
    "statements = re.findall(statement_pattern, content, re.DOTALL)\n",
    "responses = re.findall(response_pattern, content, re.DOTALL)\n",
    "explanations = re.findall(explanation_pattern, content, re.DOTALL)\n",
    "\n",
    "# Clean up statements\n",
    "statements = [s.strip().replace('\\n', ' ') for s in statements]\n",
    "\n",
    "# Create a DataFrame\n",
    "data = {'statement': statements, 'response': responses, 'explanation': explanations}\n",
    "df = pd.DataFrame(data)\n",
    "\n",
    "# Add party information as a column\n",
    "party = ['CDU/CSU'] * 38 + ['SPD'] * 38 + ['AfD'] * 38 + ['FDP'] * 38 + ['Linke'] * 38 + ['Gruene'] * 38\n",
    "df['party'] = party"
   ]
  },
  {
   "cell_type": "code",
   "execution_count": 2,
   "metadata": {},
   "outputs": [
    {
     "data": {
      "text/html": [
       "<div>\n",
       "<style scoped>\n",
       "    .dataframe tbody tr th:only-of-type {\n",
       "        vertical-align: middle;\n",
       "    }\n",
       "\n",
       "    .dataframe tbody tr th {\n",
       "        vertical-align: top;\n",
       "    }\n",
       "\n",
       "    .dataframe thead th {\n",
       "        text-align: right;\n",
       "    }\n",
       "</style>\n",
       "<table border=\"1\" class=\"dataframe\">\n",
       "  <thead>\n",
       "    <tr style=\"text-align: right;\">\n",
       "      <th></th>\n",
       "      <th>statement</th>\n",
       "      <th>response</th>\n",
       "      <th>explanation</th>\n",
       "      <th>party</th>\n",
       "    </tr>\n",
       "  </thead>\n",
       "  <tbody>\n",
       "    <tr>\n",
       "      <th>110</th>\n",
       "      <td>Asyl soll weiterhin nur politisch Verfolgten g...</td>\n",
       "      <td>zugestimmt</td>\n",
       "      <td>Seit 2015 trägt Deutschland aus eigenem Versch...</td>\n",
       "      <td>AfD</td>\n",
       "    </tr>\n",
       "    <tr>\n",
       "      <th>87</th>\n",
       "      <td>Spenden von Unternehmen an Parteien sollen wei...</td>\n",
       "      <td>zugestimmt</td>\n",
       "      <td>Derzeit ist die Abzugsfähigkeit von Unternehme...</td>\n",
       "      <td>AfD</td>\n",
       "    </tr>\n",
       "    <tr>\n",
       "      <th>113</th>\n",
       "      <td>Unternehmen sollen selbst entscheiden, ob sie ...</td>\n",
       "      <td>zugestimmt</td>\n",
       "      <td>Ob Homeoffice möglich ist, kommt auf die jewei...</td>\n",
       "      <td>AfD</td>\n",
       "    </tr>\n",
       "    <tr>\n",
       "      <th>168</th>\n",
       "      <td>Der Solidaritätszuschlag soll vollständig abge...</td>\n",
       "      <td>nicht zugestimmt</td>\n",
       "      <td>Der Solidaritätszuschlag wird schon jetzt nur ...</td>\n",
       "      <td>Linke</td>\n",
       "    </tr>\n",
       "    <tr>\n",
       "      <th>62</th>\n",
       "      <td>Deutschland soll aus der Europäischen Union au...</td>\n",
       "      <td>nicht zugestimmt</td>\n",
       "      <td>Die Einheit Europas ist eine zivilisatorische ...</td>\n",
       "      <td>SPD</td>\n",
       "    </tr>\n",
       "  </tbody>\n",
       "</table>\n",
       "</div>"
      ],
      "text/plain": [
       "                                             statement          response  \\\n",
       "110  Asyl soll weiterhin nur politisch Verfolgten g...        zugestimmt   \n",
       "87   Spenden von Unternehmen an Parteien sollen wei...        zugestimmt   \n",
       "113  Unternehmen sollen selbst entscheiden, ob sie ...        zugestimmt   \n",
       "168  Der Solidaritätszuschlag soll vollständig abge...  nicht zugestimmt   \n",
       "62   Deutschland soll aus der Europäischen Union au...  nicht zugestimmt   \n",
       "\n",
       "                                           explanation  party  \n",
       "110  Seit 2015 trägt Deutschland aus eigenem Versch...    AfD  \n",
       "87   Derzeit ist die Abzugsfähigkeit von Unternehme...    AfD  \n",
       "113  Ob Homeoffice möglich ist, kommt auf die jewei...    AfD  \n",
       "168  Der Solidaritätszuschlag wird schon jetzt nur ...  Linke  \n",
       "62   Die Einheit Europas ist eine zivilisatorische ...    SPD  "
      ]
     },
     "execution_count": 2,
     "metadata": {},
     "output_type": "execute_result"
    }
   ],
   "source": [
    "df.sample(5)"
   ]
  },
  {
   "cell_type": "code",
   "execution_count": 3,
   "metadata": {},
   "outputs": [],
   "source": [
    "# Export to CSV\n",
    "df.to_csv('wahlomat_responses_2021/wahlomat_2021.csv', index=False)"
   ]
  }
 ],
 "metadata": {
  "kernelspec": {
   "display_name": "politik-nlp",
   "language": "python",
   "name": "python3"
  },
  "language_info": {
   "codemirror_mode": {
    "name": "ipython",
    "version": 3
   },
   "file_extension": ".py",
   "mimetype": "text/x-python",
   "name": "python",
   "nbconvert_exporter": "python",
   "pygments_lexer": "ipython3",
   "version": "3.12.1"
  }
 },
 "nbformat": 4,
 "nbformat_minor": 2
}
